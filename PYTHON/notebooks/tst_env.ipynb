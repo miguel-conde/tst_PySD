{
 "cells": [
  {
   "cell_type": "markdown",
   "metadata": {},
   "source": [
    "# Installation\n"
   ]
  },
  {
   "cell_type": "code",
   "execution_count": 1,
   "metadata": {},
   "outputs": [],
   "source": [
    "### No he conseguido instalar pymc con pip, así que lo hago con conda en un entorno conda\n",
    "# ! conda update -n base -c defaults conda\n",
    "\n",
    "# Ha tenido que ser un entorno global, el local daba problemas puede ser que por el path windows\n",
    "# Por cierto, lo cree con Anaconda y tambien instale pymc con Anaconda."
   ]
  },
  {
   "cell_type": "code",
   "execution_count": 2,
   "metadata": {},
   "outputs": [],
   "source": [
    "### Para PyMC - https://www.pymc.io/projects/docs/en/stable/installation.html\n",
    "# ! conda install \"pymc>=5\"\n",
    "# ! conda install -c conda-forge numpyro\n",
    "# ! pip install numpyro"
   ]
  },
  {
   "cell_type": "markdown",
   "metadata": {},
   "source": [
    "\n",
    "+ [Documentación](https://pysd.readthedocs.io/en/master/index.html)\n",
    "    + [Installation](https://pysd.readthedocs.io/en/master/installation.html)\n",
    "+ [Cookbook](https://pysd-cookbook.readthedocs.io/en/latest/)\n",
    "+ Test Data from [Models for testing system dynamics translation, simulation, and display software](https://github.com/SDXorg/test-models/tree/master)"
   ]
  },
  {
   "cell_type": "code",
   "execution_count": 3,
   "metadata": {},
   "outputs": [],
   "source": [
    "### pysd parece que también puede instalarse con conda: \n",
    "# ! conda install -c conda-forge pysd\n",
    "# ! pip install pysd \n",
    "\n",
    "### Optional Dependencies\n",
    "#! pip install matplotlib netCDF4 dask[array] dask[diagnostics] dask[distributed] Scikit-learn NetworkX GeoPandas\n",
    "\n",
    "### Optional for cookbook\n",
    "#! pip install db-sqlite3"
   ]
  },
  {
   "cell_type": "code",
   "execution_count": 4,
   "metadata": {},
   "outputs": [],
   "source": [
    "%reload_ext autoreload\n",
    "%autoreload 2\n",
    "\n",
    "import pysd\n",
    "\n",
    "from utils import globalsettings as gs"
   ]
  },
  {
   "cell_type": "markdown",
   "metadata": {},
   "source": [
    "# Getting Started"
   ]
  },
  {
   "cell_type": "markdown",
   "metadata": {},
   "source": [
    "![figure](../../outputs/files/vensim_screenshot.png)"
   ]
  },
  {
   "cell_type": "code",
   "execution_count": 5,
   "metadata": {},
   "outputs": [],
   "source": [
    "model = pysd.read_vensim(gs.the_files.TEA_CUP_MODEL)"
   ]
  },
  {
   "cell_type": "code",
   "execution_count": 6,
   "metadata": {},
   "outputs": [
    {
     "data": {
      "text/html": [
       "<div>\n",
       "<style scoped>\n",
       "    .dataframe tbody tr th:only-of-type {\n",
       "        vertical-align: middle;\n",
       "    }\n",
       "\n",
       "    .dataframe tbody tr th {\n",
       "        vertical-align: top;\n",
       "    }\n",
       "\n",
       "    .dataframe thead th {\n",
       "        text-align: right;\n",
       "    }\n",
       "</style>\n",
       "<table border=\"1\" class=\"dataframe\">\n",
       "  <thead>\n",
       "    <tr style=\"text-align: right;\">\n",
       "      <th></th>\n",
       "      <th>Real Name</th>\n",
       "      <th>Py Name</th>\n",
       "      <th>Subscripts</th>\n",
       "      <th>Units</th>\n",
       "      <th>Limits</th>\n",
       "      <th>Type</th>\n",
       "      <th>Subtype</th>\n",
       "      <th>Comment</th>\n",
       "    </tr>\n",
       "  </thead>\n",
       "  <tbody>\n",
       "    <tr>\n",
       "      <th>0</th>\n",
       "      <td>Characteristic Time</td>\n",
       "      <td>characteristic_time</td>\n",
       "      <td>None</td>\n",
       "      <td>Minutes</td>\n",
       "      <td>(0.0, nan)</td>\n",
       "      <td>Constant</td>\n",
       "      <td>Normal</td>\n",
       "      <td>How long will it take the teacup to cool 1/e o...</td>\n",
       "    </tr>\n",
       "    <tr>\n",
       "      <th>1</th>\n",
       "      <td>FINAL TIME</td>\n",
       "      <td>final_time</td>\n",
       "      <td>None</td>\n",
       "      <td>Minute</td>\n",
       "      <td>(nan, nan)</td>\n",
       "      <td>Constant</td>\n",
       "      <td>Normal</td>\n",
       "      <td>The final time for the simulation.</td>\n",
       "    </tr>\n",
       "    <tr>\n",
       "      <th>2</th>\n",
       "      <td>Heat Loss to Room</td>\n",
       "      <td>heat_loss_to_room</td>\n",
       "      <td>None</td>\n",
       "      <td>Degrees Fahrenheit/Minute</td>\n",
       "      <td>(nan, nan)</td>\n",
       "      <td>Auxiliary</td>\n",
       "      <td>Normal</td>\n",
       "      <td>This is the rate at which heat flows from the ...</td>\n",
       "    </tr>\n",
       "    <tr>\n",
       "      <th>3</th>\n",
       "      <td>INITIAL TIME</td>\n",
       "      <td>initial_time</td>\n",
       "      <td>None</td>\n",
       "      <td>Minute</td>\n",
       "      <td>(nan, nan)</td>\n",
       "      <td>Constant</td>\n",
       "      <td>Normal</td>\n",
       "      <td>The initial time for the simulation.</td>\n",
       "    </tr>\n",
       "    <tr>\n",
       "      <th>4</th>\n",
       "      <td>Room Temperature</td>\n",
       "      <td>room_temperature</td>\n",
       "      <td>None</td>\n",
       "      <td>Degrees Fahrenheit</td>\n",
       "      <td>(-459.67, nan)</td>\n",
       "      <td>Constant</td>\n",
       "      <td>Normal</td>\n",
       "      <td>Put in a check to ensure the room temperature ...</td>\n",
       "    </tr>\n",
       "    <tr>\n",
       "      <th>5</th>\n",
       "      <td>SAVEPER</td>\n",
       "      <td>saveper</td>\n",
       "      <td>None</td>\n",
       "      <td>Minute</td>\n",
       "      <td>(0.0, nan)</td>\n",
       "      <td>Auxiliary</td>\n",
       "      <td>Normal</td>\n",
       "      <td>The frequency with which output is stored.</td>\n",
       "    </tr>\n",
       "    <tr>\n",
       "      <th>6</th>\n",
       "      <td>TIME STEP</td>\n",
       "      <td>time_step</td>\n",
       "      <td>None</td>\n",
       "      <td>Minute</td>\n",
       "      <td>(0.0, nan)</td>\n",
       "      <td>Constant</td>\n",
       "      <td>Normal</td>\n",
       "      <td>The time step for the simulation.</td>\n",
       "    </tr>\n",
       "    <tr>\n",
       "      <th>7</th>\n",
       "      <td>Teacup Temperature</td>\n",
       "      <td>teacup_temperature</td>\n",
       "      <td>None</td>\n",
       "      <td>Degrees Fahrenheit</td>\n",
       "      <td>(32.0, 212.0)</td>\n",
       "      <td>Stateful</td>\n",
       "      <td>Integ</td>\n",
       "      <td>The model is only valid for the liquid phase o...</td>\n",
       "    </tr>\n",
       "    <tr>\n",
       "      <th>8</th>\n",
       "      <td>Time</td>\n",
       "      <td>time</td>\n",
       "      <td>None</td>\n",
       "      <td>None</td>\n",
       "      <td>(nan, nan)</td>\n",
       "      <td>None</td>\n",
       "      <td>None</td>\n",
       "      <td>Current time of the model.</td>\n",
       "    </tr>\n",
       "  </tbody>\n",
       "</table>\n",
       "</div>"
      ],
      "text/plain": [
       "             Real Name              Py Name Subscripts  \\\n",
       "0  Characteristic Time  characteristic_time       None   \n",
       "1           FINAL TIME           final_time       None   \n",
       "2    Heat Loss to Room    heat_loss_to_room       None   \n",
       "3         INITIAL TIME         initial_time       None   \n",
       "4     Room Temperature     room_temperature       None   \n",
       "5              SAVEPER              saveper       None   \n",
       "6            TIME STEP            time_step       None   \n",
       "7   Teacup Temperature   teacup_temperature       None   \n",
       "8                 Time                 time       None   \n",
       "\n",
       "                       Units          Limits       Type Subtype  \\\n",
       "0                    Minutes      (0.0, nan)   Constant  Normal   \n",
       "1                     Minute      (nan, nan)   Constant  Normal   \n",
       "2  Degrees Fahrenheit/Minute      (nan, nan)  Auxiliary  Normal   \n",
       "3                     Minute      (nan, nan)   Constant  Normal   \n",
       "4         Degrees Fahrenheit  (-459.67, nan)   Constant  Normal   \n",
       "5                     Minute      (0.0, nan)  Auxiliary  Normal   \n",
       "6                     Minute      (0.0, nan)   Constant  Normal   \n",
       "7         Degrees Fahrenheit   (32.0, 212.0)   Stateful   Integ   \n",
       "8                       None      (nan, nan)       None    None   \n",
       "\n",
       "                                             Comment  \n",
       "0  How long will it take the teacup to cool 1/e o...  \n",
       "1                 The final time for the simulation.  \n",
       "2  This is the rate at which heat flows from the ...  \n",
       "3               The initial time for the simulation.  \n",
       "4  Put in a check to ensure the room temperature ...  \n",
       "5         The frequency with which output is stored.  \n",
       "6                  The time step for the simulation.  \n",
       "7  The model is only valid for the liquid phase o...  \n",
       "8                         Current time of the model.  "
      ]
     },
     "execution_count": 6,
     "metadata": {},
     "output_type": "execute_result"
    }
   ],
   "source": [
    "model.doc"
   ]
  },
  {
   "cell_type": "code",
   "execution_count": 7,
   "metadata": {},
   "outputs": [
    {
     "data": {
      "text/html": [
       "<div>\n",
       "<style scoped>\n",
       "    .dataframe tbody tr th:only-of-type {\n",
       "        vertical-align: middle;\n",
       "    }\n",
       "\n",
       "    .dataframe tbody tr th {\n",
       "        vertical-align: top;\n",
       "    }\n",
       "\n",
       "    .dataframe thead th {\n",
       "        text-align: right;\n",
       "    }\n",
       "</style>\n",
       "<table border=\"1\" class=\"dataframe\">\n",
       "  <thead>\n",
       "    <tr style=\"text-align: right;\">\n",
       "      <th></th>\n",
       "      <th>FINAL TIME</th>\n",
       "      <th>INITIAL TIME</th>\n",
       "      <th>SAVEPER</th>\n",
       "      <th>TIME STEP</th>\n",
       "      <th>Characteristic Time</th>\n",
       "      <th>Heat Loss to Room</th>\n",
       "      <th>Room Temperature</th>\n",
       "      <th>Teacup Temperature</th>\n",
       "    </tr>\n",
       "  </thead>\n",
       "  <tbody>\n",
       "    <tr>\n",
       "      <th>0.000</th>\n",
       "      <td>30</td>\n",
       "      <td>0</td>\n",
       "      <td>0.125</td>\n",
       "      <td>0.125</td>\n",
       "      <td>10</td>\n",
       "      <td>11.000000</td>\n",
       "      <td>70</td>\n",
       "      <td>180.000000</td>\n",
       "    </tr>\n",
       "    <tr>\n",
       "      <th>0.125</th>\n",
       "      <td>30</td>\n",
       "      <td>0</td>\n",
       "      <td>0.125</td>\n",
       "      <td>0.125</td>\n",
       "      <td>10</td>\n",
       "      <td>10.862500</td>\n",
       "      <td>70</td>\n",
       "      <td>178.625000</td>\n",
       "    </tr>\n",
       "    <tr>\n",
       "      <th>0.250</th>\n",
       "      <td>30</td>\n",
       "      <td>0</td>\n",
       "      <td>0.125</td>\n",
       "      <td>0.125</td>\n",
       "      <td>10</td>\n",
       "      <td>10.726719</td>\n",
       "      <td>70</td>\n",
       "      <td>177.267188</td>\n",
       "    </tr>\n",
       "    <tr>\n",
       "      <th>0.375</th>\n",
       "      <td>30</td>\n",
       "      <td>0</td>\n",
       "      <td>0.125</td>\n",
       "      <td>0.125</td>\n",
       "      <td>10</td>\n",
       "      <td>10.592635</td>\n",
       "      <td>70</td>\n",
       "      <td>175.926348</td>\n",
       "    </tr>\n",
       "    <tr>\n",
       "      <th>0.500</th>\n",
       "      <td>30</td>\n",
       "      <td>0</td>\n",
       "      <td>0.125</td>\n",
       "      <td>0.125</td>\n",
       "      <td>10</td>\n",
       "      <td>10.460227</td>\n",
       "      <td>70</td>\n",
       "      <td>174.602268</td>\n",
       "    </tr>\n",
       "    <tr>\n",
       "      <th>...</th>\n",
       "      <td>...</td>\n",
       "      <td>...</td>\n",
       "      <td>...</td>\n",
       "      <td>...</td>\n",
       "      <td>...</td>\n",
       "      <td>...</td>\n",
       "      <td>...</td>\n",
       "      <td>...</td>\n",
       "    </tr>\n",
       "    <tr>\n",
       "      <th>29.500</th>\n",
       "      <td>30</td>\n",
       "      <td>0</td>\n",
       "      <td>0.125</td>\n",
       "      <td>0.125</td>\n",
       "      <td>10</td>\n",
       "      <td>0.565131</td>\n",
       "      <td>70</td>\n",
       "      <td>75.651312</td>\n",
       "    </tr>\n",
       "    <tr>\n",
       "      <th>29.625</th>\n",
       "      <td>30</td>\n",
       "      <td>0</td>\n",
       "      <td>0.125</td>\n",
       "      <td>0.125</td>\n",
       "      <td>10</td>\n",
       "      <td>0.558067</td>\n",
       "      <td>70</td>\n",
       "      <td>75.580671</td>\n",
       "    </tr>\n",
       "    <tr>\n",
       "      <th>29.750</th>\n",
       "      <td>30</td>\n",
       "      <td>0</td>\n",
       "      <td>0.125</td>\n",
       "      <td>0.125</td>\n",
       "      <td>10</td>\n",
       "      <td>0.551091</td>\n",
       "      <td>70</td>\n",
       "      <td>75.510912</td>\n",
       "    </tr>\n",
       "    <tr>\n",
       "      <th>29.875</th>\n",
       "      <td>30</td>\n",
       "      <td>0</td>\n",
       "      <td>0.125</td>\n",
       "      <td>0.125</td>\n",
       "      <td>10</td>\n",
       "      <td>0.544203</td>\n",
       "      <td>70</td>\n",
       "      <td>75.442026</td>\n",
       "    </tr>\n",
       "    <tr>\n",
       "      <th>30.000</th>\n",
       "      <td>30</td>\n",
       "      <td>0</td>\n",
       "      <td>0.125</td>\n",
       "      <td>0.125</td>\n",
       "      <td>10</td>\n",
       "      <td>0.537400</td>\n",
       "      <td>70</td>\n",
       "      <td>75.374001</td>\n",
       "    </tr>\n",
       "  </tbody>\n",
       "</table>\n",
       "<p>241 rows × 8 columns</p>\n",
       "</div>"
      ],
      "text/plain": [
       "        FINAL TIME  INITIAL TIME  SAVEPER  TIME STEP  Characteristic Time  \\\n",
       "0.000           30             0    0.125      0.125                   10   \n",
       "0.125           30             0    0.125      0.125                   10   \n",
       "0.250           30             0    0.125      0.125                   10   \n",
       "0.375           30             0    0.125      0.125                   10   \n",
       "0.500           30             0    0.125      0.125                   10   \n",
       "...            ...           ...      ...        ...                  ...   \n",
       "29.500          30             0    0.125      0.125                   10   \n",
       "29.625          30             0    0.125      0.125                   10   \n",
       "29.750          30             0    0.125      0.125                   10   \n",
       "29.875          30             0    0.125      0.125                   10   \n",
       "30.000          30             0    0.125      0.125                   10   \n",
       "\n",
       "        Heat Loss to Room  Room Temperature  Teacup Temperature  \n",
       "0.000           11.000000                70          180.000000  \n",
       "0.125           10.862500                70          178.625000  \n",
       "0.250           10.726719                70          177.267188  \n",
       "0.375           10.592635                70          175.926348  \n",
       "0.500           10.460227                70          174.602268  \n",
       "...                   ...               ...                 ...  \n",
       "29.500           0.565131                70           75.651312  \n",
       "29.625           0.558067                70           75.580671  \n",
       "29.750           0.551091                70           75.510912  \n",
       "29.875           0.544203                70           75.442026  \n",
       "30.000           0.537400                70           75.374001  \n",
       "\n",
       "[241 rows x 8 columns]"
      ]
     },
     "execution_count": 7,
     "metadata": {},
     "output_type": "execute_result"
    }
   ],
   "source": [
    "stocks = model.run()\n",
    "stocks"
   ]
  },
  {
   "cell_type": "code",
   "execution_count": 8,
   "metadata": {},
   "outputs": [
    {
     "data": {
      "image/png": "[encoded data removed]",
      "text/plain": [
       "<Figure size 640x480 with 1 Axes>"
      ]
     },
     "metadata": {},
     "output_type": "display_data"
    }
   ],
   "source": [
    "import matplotlib.pyplot as plt\n",
    "\n",
    "stocks[\"Teacup Temperature\"].plot()\n",
    "plt.title(\"Teacup Temperature\")\n",
    "plt.ylabel(\"Degrees F\")\n",
    "plt.xlabel(\"Minutes\")\n",
    "plt.grid()"
   ]
  },
  {
   "cell_type": "code",
   "execution_count": 9,
   "metadata": {},
   "outputs": [
    {
     "name": "stderr",
     "output_type": "stream",
     "text": [
      "ETA:  --:--:-- [----------------------------------------------------------]  0%\n",
      "ETA:   0:00:00 [###########-----------------------------------------------] 20%\n",
      "ETA:   0:00:00 [####################--------------------------------------] 34%\n",
      "ETA:   0:00:00 [############################------------------------------] 49%\n",
      "ETA:   0:00:00 [##########################################----------------] 72%\n",
      "ETA:   0:00:00 [####################################################------] 90%\n",
      "Time:  0:00:00 [##########################################################]100%\n"
     ]
    }
   ],
   "source": [
    "stocks = model.run(progress=True)"
   ]
  },
  {
   "cell_type": "code",
   "execution_count": 10,
   "metadata": {},
   "outputs": [
    {
     "data": {
      "text/plain": [
       "75.37400067686977"
      ]
     },
     "execution_count": 10,
     "metadata": {},
     "output_type": "execute_result"
    }
   ],
   "source": [
    "model['Teacup Temperature']"
   ]
  },
  {
   "cell_type": "code",
   "execution_count": 11,
   "metadata": {},
   "outputs": [
    {
     "name": "stdout",
     "output_type": "stream",
     "text": [
      "CREATE TABLE simulations\n",
      "             (room_temperature real, init_teacup_temperature real,\n",
      "              t0 real, t1 real, t2 real, t3 real, t4 real, t5 real, t6 real, t7 real, t8 real, t9 real, t10 real, t11 real, t12 real, t13 real, t14 real, t15 real, t16 real, t17 real, t18 real, t19 real, t20 real, t21 real, t22 real, t23 real, t24 real, t25 real, t26 real, t27 real, t28 real, t29 real ) \n"
     ]
    }
   ],
   "source": [
    "model = pysd.read_vensim(gs.the_files.TEA_CUP_MODEL)\n",
    "tseries = range(30)\n",
    "\n",
    "print('''CREATE TABLE simulations\n",
    "             (room_temperature real, init_teacup_temperature real,\n",
    "              %s ) '''%', '.join(['t%i real'%i for i in tseries]))"
   ]
  },
  {
   "cell_type": "code",
   "execution_count": 12,
   "metadata": {},
   "outputs": [
    {
     "ename": "OperationalError",
     "evalue": "table simulations already exists",
     "output_type": "error",
     "traceback": [
      "\u001b[1;31m---------------------------------------------------------------------------\u001b[0m",
      "\u001b[1;31mOperationalError\u001b[0m                          Traceback (most recent call last)",
      "\u001b[1;32mc:\\Users\\migue\\Documents\\PROYECTOS DATA SCIENCE\\tst_PyDSTool\\PYTHON\\notebooks\\tst_env.ipynb Cell 16\u001b[0m line \u001b[0;36m7\n\u001b[0;32m      <a href='vscode-notebook-cell:/c%3A/Users/migue/Documents/PROYECTOS%20DATA%20SCIENCE/tst_PyDSTool/PYTHON/notebooks/tst_env.ipynb#X21sZmlsZQ%3D%3D?line=3'>4</a>\u001b[0m c \u001b[39m=\u001b[39m conn\u001b[39m.\u001b[39mcursor()\n\u001b[0;32m      <a href='vscode-notebook-cell:/c%3A/Users/migue/Documents/PROYECTOS%20DATA%20SCIENCE/tst_PyDSTool/PYTHON/notebooks/tst_env.ipynb#X21sZmlsZQ%3D%3D?line=5'>6</a>\u001b[0m \u001b[39m# Create table\u001b[39;00m\n\u001b[1;32m----> <a href='vscode-notebook-cell:/c%3A/Users/migue/Documents/PROYECTOS%20DATA%20SCIENCE/tst_PyDSTool/PYTHON/notebooks/tst_env.ipynb#X21sZmlsZQ%3D%3D?line=6'>7</a>\u001b[0m c\u001b[39m.\u001b[39;49mexecute(\u001b[39m'''\u001b[39;49m\u001b[39mCREATE TABLE simulations\u001b[39;49m\n\u001b[0;32m      <a href='vscode-notebook-cell:/c%3A/Users/migue/Documents/PROYECTOS%20DATA%20SCIENCE/tst_PyDSTool/PYTHON/notebooks/tst_env.ipynb#X21sZmlsZQ%3D%3D?line=7'>8</a>\u001b[0m \u001b[39m             (room_temperature real, init_teacup_temperature real,\u001b[39;49m\n\u001b[0;32m      <a href='vscode-notebook-cell:/c%3A/Users/migue/Documents/PROYECTOS%20DATA%20SCIENCE/tst_PyDSTool/PYTHON/notebooks/tst_env.ipynb#X21sZmlsZQ%3D%3D?line=8'>9</a>\u001b[0m \u001b[39m              \u001b[39;49m\u001b[39m%s\u001b[39;49;00m\u001b[39m ) \u001b[39;49m\u001b[39m'''\u001b[39;49m\u001b[39m%\u001b[39;49m\u001b[39m'\u001b[39;49m\u001b[39m, \u001b[39;49m\u001b[39m'\u001b[39;49m\u001b[39m.\u001b[39;49mjoin([\u001b[39m'\u001b[39;49m\u001b[39mt\u001b[39;49m\u001b[39m%i\u001b[39;49;00m\u001b[39m real\u001b[39;49m\u001b[39m'\u001b[39;49m\u001b[39m%\u001b[39;49mi \u001b[39mfor\u001b[39;49;00m i \u001b[39min\u001b[39;49;00m tseries]));\n",
      "\u001b[1;31mOperationalError\u001b[0m: table simulations already exists"
     ]
    }
   ],
   "source": [
    "import sqlite3\n",
    "\n",
    "conn = sqlite3.connect(gs.the_files.EXAMPLE_DB)\n",
    "c = conn.cursor()\n",
    "\n",
    "# Create table\n",
    "c.execute('''CREATE TABLE simulations\n",
    "             (room_temperature real, init_teacup_temperature real,\n",
    "              %s ) '''%', '.join(['t%i real'%i for i in tseries]));"
   ]
  },
  {
   "cell_type": "code",
   "execution_count": 13,
   "metadata": {},
   "outputs": [],
   "source": [
    "import numpy as np \n",
    "\n",
    "room_temps = np.random.normal(75, 5, 100)\n",
    "init_tea_temps = np.random.normal(175, 15, 100)"
   ]
  },
  {
   "cell_type": "code",
   "execution_count": 14,
   "metadata": {},
   "outputs": [],
   "source": [
    "for room_temp, init_tea_temp in zip(room_temps, init_tea_temps):\n",
    "    output = model.run(params={'room_temperature':room_temp},\n",
    "                       initial_condition=(0,{'teacup_temperature':init_tea_temp}),\n",
    "                       return_timestamps=tseries)\n",
    "\n",
    "    c.execute(\"INSERT INTO simulations VALUES (%i,%i,%s)\"%\n",
    "              (room_temp, init_tea_temp, ', '.join(output['Teacup Temperature'].apply(str))))\n",
    "\n",
    "    conn.commit()"
   ]
  },
  {
   "cell_type": "code",
   "execution_count": 15,
   "metadata": {},
   "outputs": [
    {
     "data": {
      "text/plain": [
       "(69.0,\n",
       " 199.0,\n",
       " 199.6301184627497,\n",
       " 187.2125829904155,\n",
       " 175.9838115050837,\n",
       " 165.83000044082578,\n",
       " 156.6482409524146,\n",
       " 148.3454759344809,\n",
       " 140.83755688802455,\n",
       " 134.04839107562503,\n",
       " 127.90917032177188,\n",
       " 122.35767364220844,\n",
       " 117.33763663443987,\n",
       " 112.79818123817944,\n",
       " 108.69330008635748,\n",
       " 104.98139022059163,\n",
       " 101.62483144532617,\n",
       " 98.5896050472608,\n",
       " 95.84494901579174,\n",
       " 93.3630462701247,\n",
       " 91.11874273324304,\n",
       " 89.0892923954113,\n",
       " 87.2541267834335,\n",
       " 85.59464649923792,\n",
       " 84.0940327150324,\n",
       " 82.73707671453418,\n",
       " 81.5100257526753,\n",
       " 80.40044367157174,\n",
       " 79.39708486009987,\n",
       " 78.48978027966093,\n",
       " 77.66933440100472,\n",
       " 76.92743200756777)"
      ]
     },
     "execution_count": 15,
     "metadata": {},
     "output_type": "execute_result"
    }
   ],
   "source": [
    "c.execute('SELECT * FROM simulations')\n",
    "c.fetchone()"
   ]
  },
  {
   "cell_type": "code",
   "execution_count": null,
   "metadata": {},
   "outputs": [],
   "source": [
    "conn.close()"
   ]
  }
 ],
 "metadata": {
  "kernelspec": {
   "display_name": ".venv",
   "language": "python",
   "name": "python3"
  },
  "language_info": {
   "codemirror_mode": {
    "name": "ipython",
    "version": 3
   },
   "file_extension": ".py",
   "mimetype": "text/x-python",
   "name": "python",
   "nbconvert_exporter": "python",
   "pygments_lexer": "ipython3",
   "version": "3.11.6"
  }
 },
 "nbformat": 4,
 "nbformat_minor": 2
}
