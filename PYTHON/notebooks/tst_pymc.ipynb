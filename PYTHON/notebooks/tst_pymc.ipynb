{
 "cells": [
  {
   "cell_type": "code",
   "execution_count": 1,
   "metadata": {},
   "outputs": [
    {
     "name": "stdout",
     "output_type": "stream",
     "text": [
      "openblas64__info:\n",
      "    libraries = ['openblas64_', 'openblas64_']\n",
      "    library_dirs = ['openblas\\\\lib']\n",
      "    language = c\n",
      "    define_macros = [('HAVE_CBLAS', None), ('BLAS_SYMBOL_SUFFIX', '64_'), ('HAVE_BLAS_ILP64', None)]\n",
      "    runtime_library_dirs = ['openblas\\\\lib']\n",
      "blas_ilp64_opt_info:\n",
      "    libraries = ['openblas64_', 'openblas64_']\n",
      "    library_dirs = ['openblas\\\\lib']\n",
      "    language = c\n",
      "    define_macros = [('HAVE_CBLAS', None), ('BLAS_SYMBOL_SUFFIX', '64_'), ('HAVE_BLAS_ILP64', None)]\n",
      "    runtime_library_dirs = ['openblas\\\\lib']\n",
      "openblas64__lapack_info:\n",
      "    libraries = ['openblas64_', 'openblas64_']\n",
      "    library_dirs = ['openblas\\\\lib']\n",
      "    language = c\n",
      "    define_macros = [('HAVE_CBLAS', None), ('BLAS_SYMBOL_SUFFIX', '64_'), ('HAVE_BLAS_ILP64', None), ('HAVE_LAPACKE', None)]\n",
      "    runtime_library_dirs = ['openblas\\\\lib']\n",
      "lapack_ilp64_opt_info:\n",
      "    libraries = ['openblas64_', 'openblas64_']\n",
      "    library_dirs = ['openblas\\\\lib']\n",
      "    language = c\n",
      "    define_macros = [('HAVE_CBLAS', None), ('BLAS_SYMBOL_SUFFIX', '64_'), ('HAVE_BLAS_ILP64', None), ('HAVE_LAPACKE', None)]\n",
      "    runtime_library_dirs = ['openblas\\\\lib']\n",
      "Supported SIMD extensions in this NumPy install:\n",
      "    baseline = SSE,SSE2,SSE3\n",
      "    found = SSSE3,SSE41,POPCNT,SSE42,AVX,F16C,FMA3,AVX2,AVX512F,AVX512CD,AVX512_SKX,AVX512_CLX,AVX512_CNL,AVX512_ICL\n",
      "    not found = \n"
     ]
    }
   ],
   "source": [
    "import numpy as np\n",
    "\n",
    "np.show_config()"
   ]
  },
  {
   "cell_type": "code",
   "execution_count": 2,
   "metadata": {},
   "outputs": [
    {
     "data": {
      "text/plain": [
       "'1.25.2'"
      ]
     },
     "execution_count": 2,
     "metadata": {},
     "output_type": "execute_result"
    }
   ],
   "source": [
    "np.__version__"
   ]
  },
  {
   "cell_type": "code",
   "execution_count": 2,
   "metadata": {},
   "outputs": [
    {
     "name": "stderr",
     "output_type": "stream",
     "text": [
      "WARNING (pytensor.configdefaults): g++ not available, if using conda: `conda install m2w64-toolchain`\n",
      "WARNING (pytensor.configdefaults): g++ not detected!  PyTensor will be unable to compile C-implementations and will default to Python. Performance may be severely degraded. To remove this warning, set PyTensor flags cxx to an empty string.\n"
     ]
    },
    {
     "ename": "IndexError",
     "evalue": "list index out of range",
     "output_type": "error",
     "traceback": [
      "\u001b[1;31m---------------------------------------------------------------------------\u001b[0m",
      "\u001b[1;31mNoSectionError\u001b[0m                            Traceback (most recent call last)",
      "File \u001b[1;32mc:\\Users\\migue\\Documents\\PROYECTOS DATA SCIENCE\\tst_PyDSTool\\venv_pymc\\Lib\\site-packages\\pytensor\\configparser.py:202\u001b[0m, in \u001b[0;36mPyTensorConfigParser.fetch_val_for_key\u001b[1;34m(self, key, delete_key)\u001b[0m\n\u001b[0;32m    201\u001b[0m \u001b[39mtry\u001b[39;00m:\n\u001b[1;32m--> 202\u001b[0m     \u001b[39mreturn\u001b[39;00m \u001b[39mself\u001b[39;49m\u001b[39m.\u001b[39;49m_pytensor_cfg\u001b[39m.\u001b[39;49mget(section, option)\n\u001b[0;32m    203\u001b[0m \u001b[39mexcept\u001b[39;00m InterpolationError:\n",
      "File \u001b[1;32mC:\\Program Files\\WindowsApps\\PythonSoftwareFoundation.Python.3.11_3.11.1776.0_x64__qbz5n2kfra8p0\\Lib\\configparser.py:797\u001b[0m, in \u001b[0;36mRawConfigParser.get\u001b[1;34m(self, section, option, raw, vars, fallback)\u001b[0m\n\u001b[0;32m    796\u001b[0m \u001b[39mtry\u001b[39;00m:\n\u001b[1;32m--> 797\u001b[0m     d \u001b[39m=\u001b[39m \u001b[39mself\u001b[39;49m\u001b[39m.\u001b[39;49m_unify_values(section, \u001b[39mvars\u001b[39;49m)\n\u001b[0;32m    798\u001b[0m \u001b[39mexcept\u001b[39;00m NoSectionError:\n",
      "File \u001b[1;32mC:\\Program Files\\WindowsApps\\PythonSoftwareFoundation.Python.3.11_3.11.1776.0_x64__qbz5n2kfra8p0\\Lib\\configparser.py:1168\u001b[0m, in \u001b[0;36mRawConfigParser._unify_values\u001b[1;34m(self, section, vars)\u001b[0m\n\u001b[0;32m   1167\u001b[0m     \u001b[39mif\u001b[39;00m section \u001b[39m!=\u001b[39m \u001b[39mself\u001b[39m\u001b[39m.\u001b[39mdefault_section:\n\u001b[1;32m-> 1168\u001b[0m         \u001b[39mraise\u001b[39;00m NoSectionError(section) \u001b[39mfrom\u001b[39;00m \u001b[39mNone\u001b[39;00m\n\u001b[0;32m   1169\u001b[0m \u001b[39m# Update with the entry specific variables\u001b[39;00m\n",
      "\u001b[1;31mNoSectionError\u001b[0m: No section: 'blas'",
      "\nDuring handling of the above exception, another exception occurred:\n",
      "\u001b[1;31mKeyError\u001b[0m                                  Traceback (most recent call last)",
      "File \u001b[1;32mc:\\Users\\migue\\Documents\\PROYECTOS DATA SCIENCE\\tst_PyDSTool\\venv_pymc\\Lib\\site-packages\\pytensor\\configparser.py:318\u001b[0m, in \u001b[0;36mConfigParam.__get__\u001b[1;34m(self, cls, type_, delete_key)\u001b[0m\n\u001b[0;32m    317\u001b[0m \u001b[39mtry\u001b[39;00m:\n\u001b[1;32m--> 318\u001b[0m     val_str \u001b[39m=\u001b[39m \u001b[39mcls\u001b[39;49m\u001b[39m.\u001b[39;49mfetch_val_for_key(\u001b[39mself\u001b[39;49m\u001b[39m.\u001b[39;49mname, delete_key\u001b[39m=\u001b[39;49mdelete_key)\n\u001b[0;32m    319\u001b[0m     \u001b[39mself\u001b[39m\u001b[39m.\u001b[39mis_default \u001b[39m=\u001b[39m \u001b[39mFalse\u001b[39;00m\n",
      "File \u001b[1;32mc:\\Users\\migue\\Documents\\PROYECTOS DATA SCIENCE\\tst_PyDSTool\\venv_pymc\\Lib\\site-packages\\pytensor\\configparser.py:206\u001b[0m, in \u001b[0;36mPyTensorConfigParser.fetch_val_for_key\u001b[1;34m(self, key, delete_key)\u001b[0m\n\u001b[0;32m    205\u001b[0m \u001b[39mexcept\u001b[39;00m (NoOptionError, NoSectionError):\n\u001b[1;32m--> 206\u001b[0m     \u001b[39mraise\u001b[39;00m \u001b[39mKeyError\u001b[39;00m(key)\n",
      "\u001b[1;31mKeyError\u001b[0m: 'blas__ldflags'",
      "\nDuring handling of the above exception, another exception occurred:\n",
      "\u001b[1;31mIndexError\u001b[0m                                Traceback (most recent call last)",
      "\u001b[1;32mc:\\Users\\migue\\Documents\\PROYECTOS DATA SCIENCE\\tst_PyDSTool\\PYTHON\\notebooks\\tst_pymc.ipynb Cell 3\u001b[0m line \u001b[0;36m1\n\u001b[1;32m----> <a href='vscode-notebook-cell:/c%3A/Users/migue/Documents/PROYECTOS%20DATA%20SCIENCE/tst_PyDSTool/PYTHON/notebooks/tst_pymc.ipynb#W2sZmlsZQ%3D%3D?line=0'>1</a>\u001b[0m \u001b[39mimport\u001b[39;00m \u001b[39mpymc\u001b[39;00m\n",
      "File \u001b[1;32mc:\\Users\\migue\\Documents\\PROYECTOS DATA SCIENCE\\tst_PyDSTool\\venv_pymc\\Lib\\site-packages\\pymc\\__init__.py:47\u001b[0m\n\u001b[0;32m     42\u001b[0m     augmented \u001b[39m=\u001b[39m \u001b[39mf\u001b[39m\u001b[39m\"\u001b[39m\u001b[39m{\u001b[39;00maugmented\u001b[39m}\u001b[39;00m\u001b[39m -fno-unwind-tables -fno-asynchronous-unwind-tables\u001b[39m\u001b[39m\"\u001b[39m\n\u001b[0;32m     44\u001b[0m     pytensor\u001b[39m.\u001b[39mconfig\u001b[39m.\u001b[39mgcc__cxxflags \u001b[39m=\u001b[39m augmented\n\u001b[1;32m---> 47\u001b[0m __set_compiler_flags()\n\u001b[0;32m     49\u001b[0m \u001b[39mfrom\u001b[39;00m \u001b[39mpymc\u001b[39;00m \u001b[39mimport\u001b[39;00m _version, gp, ode, sampling\n\u001b[0;32m     50\u001b[0m \u001b[39mfrom\u001b[39;00m \u001b[39mpymc\u001b[39;00m\u001b[39m.\u001b[39;00m\u001b[39mbackends\u001b[39;00m \u001b[39mimport\u001b[39;00m \u001b[39m*\u001b[39m\n",
      "File \u001b[1;32mc:\\Users\\migue\\Documents\\PROYECTOS DATA SCIENCE\\tst_PyDSTool\\venv_pymc\\Lib\\site-packages\\pymc\\__init__.py:30\u001b[0m, in \u001b[0;36m__set_compiler_flags\u001b[1;34m()\u001b[0m\n\u001b[0;32m     28\u001b[0m \u001b[39mdef\u001b[39;00m \u001b[39m__set_compiler_flags\u001b[39m():\n\u001b[0;32m     29\u001b[0m     \u001b[39m# Workarounds for PyTensor compiler problems on various platforms\u001b[39;00m\n\u001b[1;32m---> 30\u001b[0m     \u001b[39mimport\u001b[39;00m \u001b[39mpytensor\u001b[39;00m\n\u001b[0;32m     32\u001b[0m     current \u001b[39m=\u001b[39m pytensor\u001b[39m.\u001b[39mconfig\u001b[39m.\u001b[39mgcc__cxxflags\n\u001b[0;32m     33\u001b[0m     augmented \u001b[39m=\u001b[39m \u001b[39mf\u001b[39m\u001b[39m\"\u001b[39m\u001b[39m{\u001b[39;00mcurrent\u001b[39m}\u001b[39;00m\u001b[39m -Wno-c++11-narrowing\u001b[39m\u001b[39m\"\u001b[39m\n",
      "File \u001b[1;32mc:\\Users\\migue\\Documents\\PROYECTOS DATA SCIENCE\\tst_PyDSTool\\venv_pymc\\Lib\\site-packages\\pytensor\\__init__.py:119\u001b[0m\n\u001b[0;32m    115\u001b[0m     \u001b[39mreturn\u001b[39;00m as_tensor_variable(x, \u001b[39m*\u001b[39m\u001b[39m*\u001b[39mkwargs)\n\u001b[0;32m    118\u001b[0m \u001b[39m# isort: off\u001b[39;00m\n\u001b[1;32m--> 119\u001b[0m \u001b[39mfrom\u001b[39;00m \u001b[39mpytensor\u001b[39;00m \u001b[39mimport\u001b[39;00m scalar, tensor\n\u001b[0;32m    120\u001b[0m \u001b[39mfrom\u001b[39;00m \u001b[39mpytensor\u001b[39;00m\u001b[39m.\u001b[39;00m\u001b[39mcompile\u001b[39;00m \u001b[39mimport\u001b[39;00m (\n\u001b[0;32m    121\u001b[0m     In,\n\u001b[0;32m    122\u001b[0m     Mode,\n\u001b[1;32m   (...)\u001b[0m\n\u001b[0;32m    128\u001b[0m     shared,\n\u001b[0;32m    129\u001b[0m )\n\u001b[0;32m    130\u001b[0m \u001b[39mfrom\u001b[39;00m \u001b[39mpytensor\u001b[39;00m\u001b[39m.\u001b[39;00m\u001b[39mcompile\u001b[39;00m\u001b[39m.\u001b[39;00m\u001b[39mfunction\u001b[39;00m \u001b[39mimport\u001b[39;00m function, function_dump\n",
      "File \u001b[1;32mc:\\Users\\migue\\Documents\\PROYECTOS DATA SCIENCE\\tst_PyDSTool\\venv_pymc\\Lib\\site-packages\\pytensor\\tensor\\__init__.py:107\u001b[0m\n\u001b[0;32m    105\u001b[0m \u001b[39m# adds shared-variable constructors\u001b[39;00m\n\u001b[0;32m    106\u001b[0m \u001b[39mfrom\u001b[39;00m \u001b[39mpytensor\u001b[39;00m\u001b[39m.\u001b[39;00m\u001b[39mtensor\u001b[39;00m \u001b[39mimport\u001b[39;00m sharedvar  \u001b[39m# noqa\u001b[39;00m\n\u001b[1;32m--> 107\u001b[0m \u001b[39mfrom\u001b[39;00m \u001b[39mpytensor\u001b[39;00m\u001b[39m.\u001b[39;00m\u001b[39mtensor\u001b[39;00m \u001b[39mimport\u001b[39;00m (  \u001b[39m# noqa\u001b[39;00m\n\u001b[0;32m    108\u001b[0m     blas,\n\u001b[0;32m    109\u001b[0m     blas_c,\n\u001b[0;32m    110\u001b[0m     blas_scipy,\n\u001b[0;32m    111\u001b[0m     xlogx,\n\u001b[0;32m    112\u001b[0m )\n\u001b[0;32m    113\u001b[0m \u001b[39mimport\u001b[39;00m \u001b[39mpytensor\u001b[39;00m\u001b[39m.\u001b[39;00m\u001b[39mtensor\u001b[39;00m\u001b[39m.\u001b[39;00m\u001b[39mrewriting\u001b[39;00m\n\u001b[0;32m    116\u001b[0m \u001b[39m# isort: off\u001b[39;00m\n",
      "File \u001b[1;32mc:\\Users\\migue\\Documents\\PROYECTOS DATA SCIENCE\\tst_PyDSTool\\venv_pymc\\Lib\\site-packages\\pytensor\\tensor\\blas.py:101\u001b[0m\n\u001b[0;32m     99\u001b[0m \u001b[39mfrom\u001b[39;00m \u001b[39mpytensor\u001b[39;00m\u001b[39m.\u001b[39;00m\u001b[39mscalar\u001b[39;00m \u001b[39mimport\u001b[39;00m \u001b[39mbool\u001b[39m \u001b[39mas\u001b[39;00m bool_t\n\u001b[0;32m    100\u001b[0m \u001b[39mfrom\u001b[39;00m \u001b[39mpytensor\u001b[39;00m\u001b[39m.\u001b[39;00m\u001b[39mtensor\u001b[39;00m \u001b[39mimport\u001b[39;00m basic \u001b[39mas\u001b[39;00m at\n\u001b[1;32m--> 101\u001b[0m \u001b[39mfrom\u001b[39;00m \u001b[39mpytensor\u001b[39;00m\u001b[39m.\u001b[39;00m\u001b[39mtensor\u001b[39;00m\u001b[39m.\u001b[39;00m\u001b[39mblas_headers\u001b[39;00m \u001b[39mimport\u001b[39;00m blas_header_text, blas_header_version\n\u001b[0;32m    102\u001b[0m \u001b[39mfrom\u001b[39;00m \u001b[39mpytensor\u001b[39;00m\u001b[39m.\u001b[39;00m\u001b[39mtensor\u001b[39;00m\u001b[39m.\u001b[39;00m\u001b[39melemwise\u001b[39;00m \u001b[39mimport\u001b[39;00m DimShuffle\n\u001b[0;32m    103\u001b[0m \u001b[39mfrom\u001b[39;00m \u001b[39mpytensor\u001b[39;00m\u001b[39m.\u001b[39;00m\u001b[39mtensor\u001b[39;00m\u001b[39m.\u001b[39;00m\u001b[39mmath\u001b[39;00m \u001b[39mimport\u001b[39;00m add, mul, neg, sub\n",
      "File \u001b[1;32mc:\\Users\\migue\\Documents\\PROYECTOS DATA SCIENCE\\tst_PyDSTool\\venv_pymc\\Lib\\site-packages\\pytensor\\tensor\\blas_headers.py:1015\u001b[0m\n\u001b[0;32m    997\u001b[0m             header \u001b[39m+\u001b[39m\u001b[39m=\u001b[39m textwrap\u001b[39m.\u001b[39mdedent(\n\u001b[0;32m    998\u001b[0m \u001b[39m                \u001b[39m\u001b[39m\"\"\"\\\u001b[39;00m\n\u001b[0;32m    999\u001b[0m \u001b[39m                    static float sdot_(int* Nx, float* x, int* Sx, float* y, int* Sy)\u001b[39;00m\n\u001b[1;32m   (...)\u001b[0m\n\u001b[0;32m   1009\u001b[0m \u001b[39m                    \"\"\"\u001b[39;00m\n\u001b[0;32m   1010\u001b[0m             )\n\u001b[0;32m   1012\u001b[0m     \u001b[39mreturn\u001b[39;00m header \u001b[39m+\u001b[39m blas_code\n\u001b[1;32m-> 1015\u001b[0m \u001b[39mif\u001b[39;00m \u001b[39mnot\u001b[39;00m config\u001b[39m.\u001b[39;49mblas__ldflags:\n\u001b[0;32m   1016\u001b[0m     _logger\u001b[39m.\u001b[39mwarning(\u001b[39m\"\u001b[39m\u001b[39mUsing NumPy C-API based implementation for BLAS functions.\u001b[39m\u001b[39m\"\u001b[39m)\n\u001b[0;32m   1019\u001b[0m \u001b[39mdef\u001b[39;00m \u001b[39mmkl_threads_text\u001b[39m():\n",
      "File \u001b[1;32mc:\\Users\\migue\\Documents\\PROYECTOS DATA SCIENCE\\tst_PyDSTool\\venv_pymc\\Lib\\site-packages\\pytensor\\configparser.py:322\u001b[0m, in \u001b[0;36mConfigParam.__get__\u001b[1;34m(self, cls, type_, delete_key)\u001b[0m\n\u001b[0;32m    320\u001b[0m \u001b[39mexcept\u001b[39;00m \u001b[39mKeyError\u001b[39;00m:\n\u001b[0;32m    321\u001b[0m     \u001b[39mif\u001b[39;00m \u001b[39mcallable\u001b[39m(\u001b[39mself\u001b[39m\u001b[39m.\u001b[39mdefault):\n\u001b[1;32m--> 322\u001b[0m         val_str \u001b[39m=\u001b[39m \u001b[39mself\u001b[39;49m\u001b[39m.\u001b[39;49mdefault()\n\u001b[0;32m    323\u001b[0m     \u001b[39melse\u001b[39;00m:\n\u001b[0;32m    324\u001b[0m         val_str \u001b[39m=\u001b[39m \u001b[39mself\u001b[39m\u001b[39m.\u001b[39mdefault\n",
      "File \u001b[1;32mc:\\Users\\migue\\Documents\\PROYECTOS DATA SCIENCE\\tst_PyDSTool\\venv_pymc\\Lib\\site-packages\\pytensor\\link\\c\\cmodule.py:2782\u001b[0m, in \u001b[0;36mdefault_blas_ldflags\u001b[1;34m()\u001b[0m\n\u001b[0;32m   2779\u001b[0m \u001b[39melse\u001b[39;00m:\n\u001b[0;32m   2780\u001b[0m     rpath \u001b[39m=\u001b[39m \u001b[39mNone\u001b[39;00m\n\u001b[1;32m-> 2782\u001b[0m cxx_library_dirs \u001b[39m=\u001b[39m get_cxx_library_dirs()\n\u001b[0;32m   2783\u001b[0m searched_library_dirs \u001b[39m=\u001b[39m cxx_library_dirs \u001b[39m+\u001b[39m _std_lib_dirs\n\u001b[0;32m   2784\u001b[0m all_libs \u001b[39m=\u001b[39m [\n\u001b[0;32m   2785\u001b[0m     l\n\u001b[0;32m   2786\u001b[0m     \u001b[39mfor\u001b[39;00m path \u001b[39min\u001b[39;00m [\n\u001b[1;32m   (...)\u001b[0m\n\u001b[0;32m   2792\u001b[0m     \u001b[39mif\u001b[39;00m l\u001b[39m.\u001b[39msuffix \u001b[39min\u001b[39;00m {\u001b[39m\"\u001b[39m\u001b[39m.so\u001b[39m\u001b[39m\"\u001b[39m, \u001b[39m\"\u001b[39m\u001b[39m.dll\u001b[39m\u001b[39m\"\u001b[39m, \u001b[39m\"\u001b[39m\u001b[39m.dylib\u001b[39m\u001b[39m\"\u001b[39m}\n\u001b[0;32m   2793\u001b[0m ]\n",
      "File \u001b[1;32mc:\\Users\\migue\\Documents\\PROYECTOS DATA SCIENCE\\tst_PyDSTool\\venv_pymc\\Lib\\site-packages\\pytensor\\link\\c\\cmodule.py:2734\u001b[0m, in \u001b[0;36mdefault_blas_ldflags.<locals>.get_cxx_library_dirs\u001b[1;34m()\u001b[0m\n\u001b[0;32m   2726\u001b[0m p \u001b[39m=\u001b[39m subprocess_Popen(\n\u001b[0;32m   2727\u001b[0m     cmd,\n\u001b[0;32m   2728\u001b[0m     stdout\u001b[39m=\u001b[39msubprocess\u001b[39m.\u001b[39mPIPE,\n\u001b[1;32m   (...)\u001b[0m\n\u001b[0;32m   2731\u001b[0m     shell\u001b[39m=\u001b[39m\u001b[39mTrue\u001b[39;00m,\n\u001b[0;32m   2732\u001b[0m )\n\u001b[0;32m   2733\u001b[0m (stdout, stderr) \u001b[39m=\u001b[39m p\u001b[39m.\u001b[39mcommunicate(\u001b[39minput\u001b[39m\u001b[39m=\u001b[39m\u001b[39mb\u001b[39m\u001b[39m\"\u001b[39m\u001b[39m\"\u001b[39m)\n\u001b[1;32m-> 2734\u001b[0m maybe_lib_dirs \u001b[39m=\u001b[39m [\n\u001b[0;32m   2735\u001b[0m     [pathlib\u001b[39m.\u001b[39;49mPath(p)\u001b[39m.\u001b[39;49mresolve() \u001b[39mfor\u001b[39;49;00m p \u001b[39min\u001b[39;49;00m line[\u001b[39mlen\u001b[39;49m(\u001b[39m\"\u001b[39;49m\u001b[39mlibraries: =\u001b[39;49m\u001b[39m\"\u001b[39;49m) :]\u001b[39m.\u001b[39;49msplit(\u001b[39m\"\u001b[39;49m\u001b[39m:\u001b[39;49m\u001b[39m\"\u001b[39;49m)]\n\u001b[0;32m   2736\u001b[0m     \u001b[39mfor\u001b[39;49;00m line \u001b[39min\u001b[39;49;00m stdout\u001b[39m.\u001b[39;49mdecode(sys\u001b[39m.\u001b[39;49mstdout\u001b[39m.\u001b[39;49mencoding)\u001b[39m.\u001b[39;49msplitlines()\n\u001b[0;32m   2737\u001b[0m     \u001b[39mif\u001b[39;49;00m line\u001b[39m.\u001b[39;49mstartswith(\u001b[39m\"\u001b[39;49m\u001b[39mlibraries: =\u001b[39;49m\u001b[39m\"\u001b[39;49m)\n\u001b[0;32m   2738\u001b[0m ][\u001b[39m0\u001b[39;49m]\n\u001b[0;32m   2739\u001b[0m \u001b[39mreturn\u001b[39;00m [\u001b[39mstr\u001b[39m(d) \u001b[39mfor\u001b[39;00m d \u001b[39min\u001b[39;00m maybe_lib_dirs \u001b[39mif\u001b[39;00m d\u001b[39m.\u001b[39mexists() \u001b[39mand\u001b[39;00m d\u001b[39m.\u001b[39mis_dir()]\n",
      "\u001b[1;31mIndexError\u001b[0m: list index out of range"
     ]
    }
   ],
   "source": [
    "import pymc"
   ]
  }
 ],
 "metadata": {
  "kernelspec": {
   "display_name": "venv_pymc",
   "language": "python",
   "name": "python3"
  },
  "language_info": {
   "codemirror_mode": {
    "name": "ipython",
    "version": 3
   },
   "file_extension": ".py",
   "mimetype": "text/x-python",
   "name": "python",
   "nbconvert_exporter": "python",
   "pygments_lexer": "ipython3",
   "version": "3.11.6"
  }
 },
 "nbformat": 4,
 "nbformat_minor": 2
}
